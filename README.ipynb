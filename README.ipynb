{
 "cells": [
  {
   "cell_type": "markdown",
   "metadata": {},
   "source": [
    "此项目为香港中文大学（深圳）2021秋季 MDS 6106 Introduction to Optimization 课程项目。\n",
    "- 项目描述见`doc\\project_iopt_21.pdf`\n",
    "- 最终报告见`doc\\Optimization2021-5.pdf`\n",
    "\n",
    "开发与使用须知：\n",
    "- 请勿修改文件相对路径\n",
    "- 开发组件使用方法示例参照`src\\demo\\`\n",
    "- 自定义函数、类与相应的详细说明写在`tools`目录下\n",
    "- 主程序代码文件全部写在`src`目录下\n",
    "- 算法与模型测试方法参照`src\\0 test field.ipynb`"
   ]
  }
 ],
 "metadata": {
  "interpreter": {
   "hash": "b3ba2566441a7c06988d0923437866b63cedc61552a5af99d1f4fb67d367b25f"
  },
  "kernelspec": {
   "display_name": "Python 3.8.8 64-bit ('base': conda)",
   "language": "python",
   "name": "python3"
  },
  "language_info": {
   "name": "python",
   "version": "3.8.8"
  },
  "orig_nbformat": 4
 },
 "nbformat": 4,
 "nbformat_minor": 2
}
