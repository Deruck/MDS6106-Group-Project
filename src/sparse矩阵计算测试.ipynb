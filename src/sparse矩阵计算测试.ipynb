{
 "cells": [
  {
   "cell_type": "code",
   "execution_count": 2,
   "metadata": {},
   "outputs": [],
   "source": [
    "from scipy.sparse import csc_matrix\n",
    "import numpy as np"
   ]
  },
  {
   "cell_type": "code",
   "execution_count": 3,
   "metadata": {},
   "outputs": [],
   "source": [
    "A=np.array([\n",
    "    [1,2],\n",
    "    [3,4]\n",
    "])\n",
    "x=np.array([[1],\n",
    "            [2]])\n",
    "c=2"
   ]
  },
  {
   "cell_type": "code",
   "execution_count": 4,
   "metadata": {},
   "outputs": [
    {
     "name": "stdout",
     "output_type": "stream",
     "text": [
      "[[2 4]\n",
      " [6 8]]\n",
      "---------------------------------\n",
      "[[ 7 10]\n",
      " [15 22]]\n",
      "---------------------------------\n",
      "[[ 5]\n",
      " [11]]\n",
      "---------------------------------\n",
      "[[2 4]\n",
      " [6 8]]\n",
      "---------------------------------\n",
      "[[1 2]\n",
      " [2 4]]\n",
      "---------------------------------\n",
      "[[5]]\n"
     ]
    }
   ],
   "source": [
    "print(A+A)\n",
    "print(\"---------------------------------\")\n",
    "print(A@A)\n",
    "print(\"---------------------------------\")\n",
    "print(A@x)\n",
    "print(\"---------------------------------\")\n",
    "print(c*A)\n",
    "print(\"---------------------------------\")\n",
    "print(x@x.T)\n",
    "print(\"---------------------------------\")\n",
    "print(x.T@x)"
   ]
  },
  {
   "cell_type": "code",
   "execution_count": 5,
   "metadata": {},
   "outputs": [],
   "source": [
    "A_sp=csc_matrix(A)\n",
    "x_sp=csc_matrix(x)"
   ]
  },
  {
   "cell_type": "code",
   "execution_count": 6,
   "metadata": {},
   "outputs": [
    {
     "name": "stdout",
     "output_type": "stream",
     "text": [
      "  (0, 0)\t2\n",
      "  (1, 0)\t6\n",
      "  (0, 1)\t4\n",
      "  (1, 1)\t8\n",
      "---------------------------------\n",
      "  (1, 0)\t15\n",
      "  (0, 0)\t7\n",
      "  (1, 1)\t22\n",
      "  (0, 1)\t10\n",
      "---------------------------------\n",
      "  (1, 0)\t11\n",
      "  (0, 0)\t5\n",
      "---------------------------------\n",
      "  (0, 0)\t2\n",
      "  (1, 0)\t6\n",
      "  (0, 1)\t4\n",
      "  (1, 1)\t8\n",
      "---------------------------------\n",
      "  (1, 0)\t2\n",
      "  (0, 0)\t1\n",
      "  (1, 1)\t4\n",
      "  (0, 1)\t2\n",
      "---------------------------------\n",
      "  (0, 0)\t5\n",
      "---------------------------------\n",
      "[[ 7 10]\n",
      " [15 22]]\n",
      "---------------------------------\n",
      "[[ 5]\n",
      " [11]]\n"
     ]
    }
   ],
   "source": [
    "print(A_sp+A_sp)\n",
    "print(\"---------------------------------\")\n",
    "print(A_sp@A_sp)\n",
    "print(\"---------------------------------\")\n",
    "print(A_sp@x_sp)\n",
    "print(\"---------------------------------\")\n",
    "print(c*A_sp)\n",
    "print(\"---------------------------------\")\n",
    "print(x_sp@x_sp.T)\n",
    "print(\"---------------------------------\")\n",
    "print(x_sp.T@x_sp)\n",
    "print(\"---------------------------------\")\n",
    "print(A_sp@A)\n",
    "print(\"---------------------------------\")\n",
    "print(A_sp@x)\n"
   ]
  },
  {
   "cell_type": "code",
   "execution_count": 7,
   "metadata": {},
   "outputs": [],
   "source": [
    "from scipy.sparse.linalg import norm"
   ]
  },
  {
   "cell_type": "code",
   "execution_count": 8,
   "metadata": {},
   "outputs": [
    {
     "data": {
      "text/plain": [
       "5.477225575051661"
      ]
     },
     "execution_count": 8,
     "metadata": {},
     "output_type": "execute_result"
    }
   ],
   "source": [
    "norm(A_sp)"
   ]
  }
 ],
 "metadata": {
  "interpreter": {
   "hash": "b3ba2566441a7c06988d0923437866b63cedc61552a5af99d1f4fb67d367b25f"
  },
  "kernelspec": {
   "display_name": "Python 3.8.8 64-bit ('base': conda)",
   "language": "python",
   "name": "python3"
  },
  "language_info": {
   "codemirror_mode": {
    "name": "ipython",
    "version": 3
   },
   "file_extension": ".py",
   "mimetype": "text/x-python",
   "name": "python",
   "nbconvert_exporter": "python",
   "pygments_lexer": "ipython3",
   "version": "3.8.8"
  },
  "orig_nbformat": 4
 },
 "nbformat": 4,
 "nbformat_minor": 2
}
