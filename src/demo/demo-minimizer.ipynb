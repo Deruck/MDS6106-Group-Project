{
 "cells": [
  {
   "cell_type": "code",
   "execution_count": 1,
   "metadata": {},
   "outputs": [],
   "source": [
    "import os\n",
    "os.environ[\"KMP_DUPLICATE_LIB_OK\"]=\"TRUE\"\n",
    "os.chdir('..')\n",
    "%matplotlib inline"
   ]
  },
  {
   "cell_type": "markdown",
   "metadata": {},
   "source": [
    "`tools\\optimization.py`"
   ]
  },
  {
   "cell_type": "code",
   "execution_count": 2,
   "metadata": {},
   "outputs": [
    {
     "data": {
      "image/png": "[encoded data removed]",
      "text/plain": [
       "<Figure size 432x288 with 1 Axes>"
      ]
     },
     "metadata": {
      "needs_background": "light"
     },
     "output_type": "display_data"
    }
   ],
   "source": [
    "from tools.datasets import DataGenerator\n",
    "\n",
    "data_generator = DataGenerator(p=4, sep=6, seed=1)\n",
    "data, label = data_generator.get_data()\n",
    "data_generator.plot()"
   ]
  },
  {
   "cell_type": "markdown",
   "metadata": {},
   "source": [
    "优化器父类\n",
    "```\n",
    "class Minimizer:\n",
    "    __init__:\n",
    "        function[function]: 优化目标函数\n",
    "        init[np.array(nd x 1)]: 初始点\n",
    "        tol[float]: 终止条件\n",
    "        max_iter[int]: 最多迭代次数\n",
    "\n",
    "    Attributes\n",
    "        _function:\n",
    "        _init:\n",
    "        _tol:\n",
    "        _solution[array(init.shape)]: 优化解，和起始点同shape\n",
    "        _duration[float]: 计算时间\n",
    "        _iter[int]: 迭代次数\n",
    "        _path[list<np.array>]: 优化路径\n",
    "        _d_path[list]: 梯度范数路径\n",
    "\n",
    "    Method\n",
    "        get_result: 获取结果\n",
    "\n",
    "        _apply: 实施优化\n",
    "        _line_search: 步长策略\n",
    "```\n",
    "其他优化器继承`Minimizer`类，编写方式参照示例`tools.optimization.ExampleMinimizer`。"
   ]
  },
  {
   "cell_type": "markdown",
   "metadata": {},
   "source": [
    "**示例：**<br>\n",
    "`tools.optimization.ExampleMinimizer`\n",
    "- `function`, `init`, `tol`, `max_iter`为通用参数\n",
    "- `param1`,`param2`为该优化器特有参数"
   ]
  },
  {
   "cell_type": "code",
   "execution_count": 3,
   "metadata": {},
   "outputs": [],
   "source": [
    "from tools.optimization import  AGM\n",
    "from scipy.sparse import csc_matrix\n",
    "from tools.functions import SSE, Huber\n",
    "\n",
    "\n",
    "lambda_=2\n",
    "f = SSE(data)/2 + lambda_*Huber(delta=1, data_shape=data.shape)\n",
    "init = data\n",
    "tol = 10**(-3)\n",
    "max_iter = 1000\n",
    "param={\n",
    "    'use_sgd': False,\n",
    "    'param1': 1,\n",
    "    'param2': 2    \n",
    "}\n",
    "example_minimizer=AGM(function=f,init=init,tol=tol,max_iter=max_iter,**param)"
   ]
  },
  {
   "cell_type": "code",
   "execution_count": 4,
   "metadata": {},
   "outputs": [
    {
     "name": "stdout",
     "output_type": "stream",
     "text": [
      "Applying: AGM\n",
      "iter:35\td_norm:0.0004\tobj:316.0041695\n",
      "Complete!\n"
     ]
    },
    {
     "data": {
      "text/plain": [
       "dict_keys(['solution', 'duration', 'iter', 'path'])"
      ]
     },
     "execution_count": 4,
     "metadata": {},
     "output_type": "execute_result"
    }
   ],
   "source": [
    "result=example_minimizer.get_result()\n",
    "result.keys()"
   ]
  },
  {
   "cell_type": "code",
   "execution_count": 5,
   "metadata": {},
   "outputs": [
    {
     "data": {
      "text/plain": [
       "torch.Size([2, 80])"
      ]
     },
     "execution_count": 5,
     "metadata": {},
     "output_type": "execute_result"
    }
   ],
   "source": [
    "solution=result['solution']\n",
    "solution.shape"
   ]
  }
 ],
 "metadata": {
  "interpreter": {
   "hash": "b3ba2566441a7c06988d0923437866b63cedc61552a5af99d1f4fb67d367b25f"
  },
  "kernelspec": {
   "display_name": "Python 3.8.8 64-bit ('base': conda)",
   "language": "python",
   "name": "python3"
  },
  "language_info": {
   "codemirror_mode": {
    "name": "ipython",
    "version": 3
   },
   "file_extension": ".py",
   "mimetype": "text/x-python",
   "name": "python",
   "nbconvert_exporter": "python",
   "pygments_lexer": "ipython3",
   "version": "3.8.8"
  },
  "orig_nbformat": 4
 },
 "nbformat": 4,
 "nbformat_minor": 2
}
