{
 "cells": [
  {
   "cell_type": "code",
   "execution_count": 1,
   "metadata": {},
   "outputs": [],
   "source": [
    "import os\n",
    "os.environ[\"KMP_DUPLICATE_LIB_OK\"]=\"TRUE\"\n",
    "os.chdir('..')\n",
    "%matplotlib inline"
   ]
  },
  {
   "cell_type": "markdown",
   "metadata": {},
   "source": [
    "`tools\\functions.py`"
   ]
  },
  {
   "cell_type": "markdown",
   "metadata": {},
   "source": [
    "- 函数可以通过`FUNCTION.obj(x)`,`FUNCTION.grad(x)`,`FUNCTION.hessian(x)`获取函数的值、梯度与hessian。\n",
    "- 优化目标函数可以通过定义基本部件，然后线性组合。支持运算符：\n",
    "  - 左乘常数\n",
    "  - 右除以常数\n",
    "  - 两函数相加\n",
    "- 编写函数方法类比`tools\\functions.py`中`SSE`函数的编写。"
   ]
  },
  {
   "cell_type": "code",
   "execution_count": 2,
   "metadata": {},
   "outputs": [],
   "source": [
    "from tools.datasets import DataGenerator\n",
    "from tools.functions import SSE\n",
    "from tools.functions import Huber\n",
    "import numpy as np\n",
    "import torch"
   ]
  },
  {
   "cell_type": "code",
   "execution_count": 3,
   "metadata": {},
   "outputs": [],
   "source": [
    "data_generator=DataGenerator(p=5,sep=4,seed=9408)\n",
    "data,label=data_generator.get_data()\n",
    "data_shape=data.shape"
   ]
  },
  {
   "cell_type": "markdown",
   "metadata": {},
   "source": [
    "初始化`SSE`函数，传入数据。\n",
    "\n",
    "$$\\begin{aligned}\n",
    "SSE(x|\\alpha)&=(x-\\alpha)^T(x-\\alpha)\\\\\n",
    "\\nabla SSE(x|\\alpha)&=2(x-\\alpha)\\\\\n",
    "\\nabla^2 SSE(x|\\alpha)&=2I_{dn}\n",
    "\\end{aligned}$$"
   ]
  },
  {
   "cell_type": "code",
   "execution_count": 4,
   "metadata": {},
   "outputs": [
    {
     "name": "stdout",
     "output_type": "stream",
     "text": [
      "tensor(1139.8413, dtype=torch.float64)\n",
      "torch.Size([2, 100])\n",
      "torch.Size([200, 200])\n"
     ]
    }
   ],
   "source": [
    "sse=SSE(data)\n",
    "x=torch.tensor(np.ones(data_shape))\n",
    "\n",
    "print(sse.obj(x))\n",
    "print(sse.grad(x).shape)\n",
    "print(sse.hessian(x).shape)"
   ]
  },
  {
   "cell_type": "markdown",
   "metadata": {},
   "source": [
    "可通过\n",
    "$$f_{cluster}(x)={1\\over2}SSE(x)+\\lambda\\phi_{hub}(x)$$\n",
    "来获得最终优化目标函数"
   ]
  },
  {
   "cell_type": "code",
   "execution_count": 5,
   "metadata": {},
   "outputs": [
    {
     "name": "stdout",
     "output_type": "stream",
     "text": [
      "tensor(569.9207, dtype=torch.float64)\n",
      "torch.Size([2, 100])\n",
      "torch.Size([200, 200])\n"
     ]
    }
   ],
   "source": [
    "huber=Huber(delta=1, data_shape=data_shape)\n",
    "lambda_=0.1\n",
    "f_cluster=sse/2+lambda_*huber\n",
    "\n",
    "print(f_cluster.obj(x))\n",
    "print(f_cluster.grad(x).shape)\n",
    "print(f_cluster.hessian(x).shape)"
   ]
  },
  {
   "cell_type": "markdown",
   "metadata": {},
   "source": [
    "$$f_{cluster}(x)={1\\over2}SSE(x)+\\lambda\\phi_{hub}(x)$$"
   ]
  },
  {
   "cell_type": "code",
   "execution_count": 6,
   "metadata": {},
   "outputs": [
    {
     "name": "stdout",
     "output_type": "stream",
     "text": [
      "tensor(569.9207, dtype=torch.float64)\n",
      "torch.Size([2, 100])\n",
      "torch.Size([200, 200])\n"
     ]
    }
   ],
   "source": [
    "from tools.functions import SSE\n",
    "from tools.functions import Huber\n",
    "\n",
    "sse=SSE(data)\n",
    "huber=Huber(delta=1, data_shape=data_shape)\n",
    "lambda_=0.1\n",
    "\n",
    "\n",
    "f_cluster=sse / 2  +  lambda_ * huber\n",
    "\n",
    "\n",
    "print(f_cluster.obj(x))\n",
    "print(f_cluster.grad(x).shape)\n",
    "print(f_cluster.hessian(x).shape)"
   ]
  }
 ],
 "metadata": {
  "interpreter": {
   "hash": "b3ba2566441a7c06988d0923437866b63cedc61552a5af99d1f4fb67d367b25f"
  },
  "kernelspec": {
   "display_name": "Python 3.8.8 64-bit ('base': conda)",
   "language": "python",
   "name": "python3"
  },
  "language_info": {
   "codemirror_mode": {
    "name": "ipython",
    "version": 3
   },
   "file_extension": ".py",
   "mimetype": "text/x-python",
   "name": "python",
   "nbconvert_exporter": "python",
   "pygments_lexer": "ipython3",
   "version": "3.8.8"
  },
  "orig_nbformat": 4
 },
 "nbformat": 4,
 "nbformat_minor": 2
}
