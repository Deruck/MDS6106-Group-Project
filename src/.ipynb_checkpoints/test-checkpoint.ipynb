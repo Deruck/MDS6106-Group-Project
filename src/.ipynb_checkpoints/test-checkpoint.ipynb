{
 "cells": [
  {
   "cell_type": "code",
   "execution_count": 10,
   "metadata": {},
   "outputs": [],
   "source": [
    "import matplotlib.pyplot as plt\n",
    "import numpy as np\n",
    "from IPython import display\n",
    "\n",
    "ax = []\n",
    "ay = []\n",
    "plt.ion()\n",
    "for i in range(10):\n",
    "    ax.append(i)\n",
    "    ay.append(i**3 + 3*i + 1)\n",
    "    plt.plot(ax, ay, 'ro--')\n",
    "    plt.pause(0.1)\n",
    "\n",
    "    "
   ]
  },
  {
   "cell_type": "code",
   "execution_count": 11,
   "metadata": {},
   "outputs": [],
   "source": [
    "import matplotlib.pyplot as plt\n",
    "import numpy as np\n",
    "from IPython import display\n",
    "\n",
    "plt.ion()\n",
    "plt.figure(figsize = (4,4))\n",
    "\n",
    "# 画单位圆\n",
    "theta = np.arange(0, 2.1*np.pi, 2*np.pi/100)\n",
    "plt.plot(np.cos(theta), np.sin(theta))\n",
    "plt.xlim([-1,1])\n",
    "plt.ylim([-1,1])\n",
    "\n",
    "# 模拟的随机点数\n",
    "n = 100\n",
    "a = 2 * np.random.rand(n, 2) - 1\n",
    "for i in range(n):\n",
    "    color = 'g'\n",
    "    if (a[i][0] ** 2 + a[i][1] ** 2 ) < 1:\n",
    "        color = 'r'\n",
    "    plt.scatter(a[i][0], a[i][1], c=color, marker='^')\n",
    "    display.clear_output(wait=True)\n",
    "    plt.pause(0.1)\n"
   ]
  }
 ],
 "metadata": {
  "interpreter": {
   "hash": "b3ba2566441a7c06988d0923437866b63cedc61552a5af99d1f4fb67d367b25f"
  },
  "kernelspec": {
   "display_name": "Python 3",
   "language": "python",
   "name": "python3"
  },
  "language_info": {
   "codemirror_mode": {
    "name": "ipython",
    "version": 3
   },
   "file_extension": ".py",
   "mimetype": "text/x-python",
   "name": "python",
   "nbconvert_exporter": "python",
   "pygments_lexer": "ipython3",
   "version": "3.8.8"
  }
 },
 "nbformat": 4,
 "nbformat_minor": 4
}
