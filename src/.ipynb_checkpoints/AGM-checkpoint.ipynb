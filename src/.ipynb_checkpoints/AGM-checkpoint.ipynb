{
 "cells": [
  {
   "cell_type": "code",
   "execution_count": 1,
   "metadata": {},
   "outputs": [],
   "source": [
    "import numpy as np\n",
    "from scipy.sparse import csc_matrix\n",
    "import time\n",
    "from scipy.sparse.linalg import norm\n",
    "import torch"
   ]
  },
  {
   "cell_type": "markdown",
   "metadata": {},
   "source": [
    "### 1 读取数据"
   ]
  },
  {
   "cell_type": "code",
   "execution_count": 2,
   "metadata": {},
   "outputs": [
    {
     "data": {
      "image/png": "[encoded data removed]",
      "text/plain": [
       "<Figure size 432x288 with 1 Axes>"
      ]
     },
     "metadata": {
      "needs_background": "light"
     },
     "output_type": "display_data"
    }
   ],
   "source": [
    "from tools.datasets import DataGenerator\n",
    "\n",
    "data_generator = DataGenerator(p=5, sep=4, seed=9408)\n",
    "data,label = data_generator.get_data()\n",
    "data_generator.plot()\n",
    "data = data.to_dense()"
   ]
  },
  {
   "cell_type": "markdown",
   "metadata": {},
   "source": [
    "### 2 定义优化目标函数\n",
    "(huber函数待完成)"
   ]
  },
  {
   "cell_type": "code",
   "execution_count": 5,
   "metadata": {},
   "outputs": [],
   "source": [
    "from tools.functions import SSE\n",
    "from tools.functions import Huber\n",
    "\n",
    "sse = SSE(data)\n",
    "huber = Huber(delta=1, data_shape=data.shape)\n",
    "lamb = 0.1\n",
    "\n",
    "f_cluster=sse/2+lamb*huber"
   ]
  },
  {
   "cell_type": "markdown",
   "metadata": {},
   "source": [
    "### 3 优化"
   ]
  },
  {
   "cell_type": "markdown",
   "metadata": {},
   "source": [
    "**定义参数**"
   ]
  },
  {
   "cell_type": "code",
   "execution_count": 6,
   "metadata": {},
   "outputs": [],
   "source": [
    "# 通用参数\n",
    "f = f_cluster    \n",
    "init = data      # 从数据原点开始\n",
    "tol = 10**(-3)   \n",
    "max_iter = 100\n",
    "\n",
    "# 特有参数\n",
    "param={\n",
    "    'param1': 1,\n",
    "    'param2': 2    \n",
    "}"
   ]
  },
  {
   "cell_type": "markdown",
   "metadata": {},
   "source": [
    "**编写优化算法**"
   ]
  },
  {
   "cell_type": "code",
   "execution_count": 14,
   "metadata": {},
   "outputs": [],
   "source": [
    "from tools.optimization import Minimizer\n",
    "from math import sqrt\n",
    "\n",
    "delta = 1\n",
    "\n",
    "class ExampleMinimizer(Minimizer):\n",
    "    '''示例类，继承自父类Minimizer\n",
    "    __init__:\n",
    "        **param: 该优化算法的具体参数\n",
    "\n",
    "    Method:\n",
    "        _line_search: 步长搜索策略，通用性强可以写入父类\n",
    "        _apply: 优化算法\n",
    "\n",
    "    '''\n",
    "\n",
    "    def __init__(self, function, init, tol, max_iter=np.inf, **param):\n",
    "        super().__init__(function, init, tol, max_iter)\n",
    "        self.param = param\n",
    "        \n",
    "        \n",
    "    def get_result(self, data):\n",
    "        self._apply(data, self.param)\n",
    "        return {\n",
    "            'solution': self._solution,\n",
    "            'duration': self._duration,\n",
    "            'iter': self._iter,\n",
    "            'path': self._path\n",
    "        }\n",
    "    \n",
    "    def _line_search(self, x, d):\n",
    "        '''计算x处，梯度为d的最优步长\n",
    "\n",
    "        '''\n",
    "        return 0\n",
    "\n",
    "    def _get_alpha(self, **param):\n",
    "        '''\n",
    "        \n",
    "        '''\n",
    "#         return 1/self._function.L\n",
    "        return 1 / (1+100*lamb/delta)\n",
    "        \n",
    "    def _get_t(self, **param):\n",
    "        '''\n",
    "        \n",
    "        '''\n",
    "        if len(self._tmp_params['t']) == 0:\n",
    "            return 1\n",
    "        else:\n",
    "            tk_1 = self._tmp_params['t'][-1]\n",
    "            return (1+sqrt(4*tk_1**2+1))/2\n",
    "        \n",
    "    def _get_beta(self, **param):\n",
    "        '''\n",
    "        \n",
    "        '''\n",
    "        \n",
    "        if len(self._tmp_params['beta']) == 0:\n",
    "            return 0\n",
    "        else:\n",
    "            tk = self._tmp_params['t'][-1]\n",
    "            tk_1 = self._tmp_params['t'][-2]\n",
    "        return (tk_1-1)/tk\n",
    "        \n",
    "    def _update_tmp_params(self):\n",
    "        '''\n",
    "        \n",
    "        '''\n",
    "        self._tmp_params['alpha'].append(self._get_alpha())\n",
    "        self._tmp_params['t'].append(self._get_t())\n",
    "        self._tmp_params['beta'].append(self._get_beta())\n",
    "        \n",
    "    def _apply(self, data, param):\n",
    "        '''优化算法\n",
    "\n",
    "        '''\n",
    "        print('Applying: ')\n",
    "\n",
    "        start = time.time() \n",
    "        self._iter = 0\n",
    "\n",
    "        self._tmp_params = {'beta': [],\n",
    "                            't': [],\n",
    "                            'alpha': []}\n",
    "        self._update_tmp_params()\n",
    "        \n",
    "        self._path = [self._init]\n",
    "        self._y_path = [self._init]\n",
    "\n",
    "        while True:\n",
    "            self._iter += 1\n",
    "            \n",
    "            alpha, beta = self._tmp_params['alpha'][-1], self._tmp_params['beta'][-1]\n",
    "            xk = self._path[self._iter-1]\n",
    "            xk_1 = self._path[self._iter-2]\n",
    "            y = xk + beta * (xk - xk_1)\n",
    "            d = self._function.grad(y)\n",
    "            self._path.append(y-alpha*d)\n",
    "            \n",
    "            d_norm = d.norm(2)  # 计算梯度norm\n",
    "            obj = self._function.obj(self._path[-1])\n",
    "            print(f'\\riter:{self._iter}\\td_norm:{d_norm:.4f}\\tobj:{obj:.4f}',\n",
    "                  end='', flush=True)  # 输出进度\n",
    "            if d_norm < self._tol or self._iter >= self._max_iter:  # 迭代终止判断\n",
    "                break\n",
    "            self._update_tmp_params()\n",
    "\n",
    "        self._solution = self._path[-1]\n",
    "        end = time.time()  # 获取终止时间\n",
    "        self._duration = end-start  # 获取duration\n",
    "\n",
    "        print('\\nComplete!')"
   ]
  },
  {
   "cell_type": "markdown",
   "metadata": {},
   "source": [
    "**运行算法**"
   ]
  },
  {
   "cell_type": "code",
   "execution_count": 15,
   "metadata": {},
   "outputs": [],
   "source": [
    "example_minimizer=ExampleMinimizer(function=f,init=init,tol=tol,max_iter=max_iter,**param)"
   ]
  },
  {
   "cell_type": "markdown",
   "metadata": {},
   "source": [
    "**获取结果**"
   ]
  },
  {
   "cell_type": "code",
   "execution_count": 16,
   "metadata": {},
   "outputs": [
    {
     "name": "stdout",
     "output_type": "stream",
     "text": [
      "Applying: \n",
      "iter:30\td_norm:0.0007\tobj:262.3489\n",
      "Complete!\n",
      "dict_keys(['solution', 'duration', 'iter', 'path'])\n",
      "tensor([[3.8827, 3.7654, 3.3519, 3.6991, 3.6172, 3.7634, 3.8524, 3.7461, 3.6855,\n",
      "         3.6299, 3.7001, 3.7578, 3.6557, 3.5890, 3.7056, 3.7086, 3.7503, 3.8157,\n",
      "         3.6477, 3.7838, 2.9667, 2.6347, 2.5254, 2.6120, 2.6188, 2.7758, 2.8143,\n",
      "         2.6053, 2.7084, 2.6549, 2.6983, 2.7974, 2.7749, 2.8177, 2.6889, 2.7403,\n",
      "         2.7156, 2.8480, 2.7080, 2.7058, 3.4545, 3.3784, 3.4084, 3.3165, 3.3053,\n",
      "         3.3506, 3.2884, 3.3424, 3.4508, 3.2754, 3.2866, 3.2477, 3.4009, 3.3437,\n",
      "         3.3149, 3.3154, 3.3700, 3.3976, 3.3530, 3.4967, 3.3132, 3.2234, 3.1491,\n",
      "         3.2693, 3.2905, 3.3098, 3.1892, 3.2325, 3.2444, 3.2553, 3.2464, 3.2244,\n",
      "         3.2688, 3.2476, 3.1671, 3.2313, 3.1992, 3.2446, 3.2453, 3.4431, 2.9607,\n",
      "         3.0093, 3.0945, 2.9729, 3.0755, 2.9791, 2.9617, 3.0337, 2.8954, 2.9923,\n",
      "         2.8977, 3.0747, 2.9808, 3.0266, 2.8730, 2.9714, 3.0254, 3.0731, 3.0652,\n",
      "         3.0057],\n",
      "        [1.7486, 1.8941, 2.0588, 1.8413, 1.6877, 1.8992, 1.7804, 1.8583, 1.7915,\n",
      "         1.6881, 1.8289, 1.8063, 1.9263, 1.8540, 2.0415, 1.9807, 2.0541, 1.8827,\n",
      "         1.7655, 1.8665, 1.9086, 1.7308, 1.9947, 2.0564, 1.9723, 1.8121, 1.8852,\n",
      "         1.8346, 1.9017, 1.9500, 1.8556, 1.7972, 1.7918, 1.9544, 1.7385, 1.8747,\n",
      "         1.8075, 2.0077, 2.0762, 1.6997, 2.1149, 2.1312, 2.0937, 2.1959, 2.1476,\n",
      "         2.0816, 2.2497, 2.1223, 2.1176, 2.1367, 2.0696, 2.1639, 2.1571, 2.0479,\n",
      "         2.1767, 2.0946, 2.0519, 2.1447, 2.0745, 2.1533, 2.3003, 2.2856, 2.1794,\n",
      "         2.2850, 2.3545, 2.4063, 2.2579, 2.3628, 2.2880, 2.3579, 2.3274, 2.2125,\n",
      "         2.2642, 2.3684, 2.3502, 2.2922, 2.3576, 2.3397, 2.2913, 2.2338, 2.2891,\n",
      "         2.1455, 2.2360, 2.1861, 2.1524, 2.1668, 2.2217, 2.2353, 2.1785, 2.2041,\n",
      "         2.2759, 2.1725, 2.1614, 2.1870, 2.1718, 2.1283, 2.1591, 2.1424, 2.2359,\n",
      "         2.2609]])\n"
     ]
    }
   ],
   "source": [
    "result=example_minimizer.get_result(data)\n",
    "print(result.keys())\n",
    "print(result['solution'])"
   ]
  }
 ],
 "metadata": {
  "interpreter": {
   "hash": "b3ba2566441a7c06988d0923437866b63cedc61552a5af99d1f4fb67d367b25f"
  },
  "kernelspec": {
   "display_name": "Python 3",
   "language": "python",
   "name": "python3"
  },
  "language_info": {
   "codemirror_mode": {
    "name": "ipython",
    "version": 3
   },
   "file_extension": ".py",
   "mimetype": "text/x-python",
   "name": "python",
   "nbconvert_exporter": "python",
   "pygments_lexer": "ipython3",
   "version": "3.8.2"
  }
 },
 "nbformat": 4,
 "nbformat_minor": 4
}
