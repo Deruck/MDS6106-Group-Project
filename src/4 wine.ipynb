{
 "cells": [
  {
   "cell_type": "code",
   "execution_count": 3,
   "metadata": {},
   "outputs": [],
   "source": [
    "import os\n",
    "os.environ[\"KMP_DUPLICATE_LIB_OK\"]=\"TRUE\"\n",
    "%matplotlib inline\n",
    "\n",
    "from tools.datasets import load_data\n",
    "data,label=load_data('wine')"
   ]
  },
  {
   "cell_type": "code",
   "execution_count": 30,
   "metadata": {},
   "outputs": [
    {
     "name": "stdout",
     "output_type": "stream",
     "text": [
      "Applying: AGM\n",
      "iter:3043\td_norm:19.6532\tobj:342.53064\n",
      "Complete!\n",
      "--------\n",
      "Result\n",
      "--------\n",
      "+ Model: Weighted\n",
      "  - lambda:                    1.2\n",
      "  - delta:                    0.01\n",
      "  - k:                          50\n",
      "  - v:                         0.5\n",
      "+ Minimizer: AGM\n",
      "  - Max Iteration:             inf\n",
      "  - Tolerance:               1e-05\n",
      "+ Performance:\n",
      "  - Data Shape:           13 x 178\n",
      "  - Iteration Times:          3043\n",
      "  - Duration:              45.173s\n",
      "  - Number of Clusters:         19\n",
      "  - Number of Classes:           3\n",
      "  - Compression Ratio:       0.754\n",
      "  - Homogeneity:             0.861\n",
      "  - Completeness:            0.535\n",
      "  - V-measure(beta=1):       0.660\n"
     ]
    },
    {
     "data": {
      "image/png": "[encoded data removed]",
      "text/plain": [
       "<Figure size 432x288 with 1 Axes>"
      ]
     },
     "metadata": {
      "needs_background": "light"
     },
     "output_type": "display_data"
    }
   ],
   "source": [
    "# 设定参数\n",
    "general_param={\n",
    "    'data':data,\n",
    "    'lambda_': 1.2\n",
    "}\n",
    "\n",
    "model_param={\n",
    "    'model':'Weighted',\n",
    "    'delta': 0.01,\n",
    "    'k':50,\n",
    "    'v':0.5\n",
    "    }\n",
    "\n",
    "minimizer_param={\n",
    "    'minimizer': 'AGM',\n",
    "    'tol': 10**(-5)\n",
    "}\n",
    "\n",
    "\n",
    "# 加载模型\n",
    "from tools.full_model import MyCluster\n",
    "my_cluster=MyCluster(**general_param,**model_param,**minimizer_param)\n",
    "\n",
    "# 优化\n",
    "my_cluster.optimize()\n",
    "\n",
    "# 聚类\n",
    "my_cluster.solution_to_cluster(epsilon=0.01)\n",
    "\n",
    "# 获取结果看板（beta控制vmeasure的加权）\n",
    "my_cluster.get_result_panel(label,beta=1)"
   ]
  },
  {
   "cell_type": "code",
   "execution_count": 32,
   "metadata": {},
   "outputs": [
    {
     "name": "stdout",
     "output_type": "stream",
     "text": [
      "[ 1  1  1  1  1  1  1  1  1  1  1  1  1  2  3  1  1  1  3  1  1  4  1  1\n",
      "  1  5  1  1  1  1  1  1  1  5  1  1  1  1  1  6  1  1  1  4  1  1  1  1\n",
      "  1  1  7  1  1  1  1  1  1  1  1  8  9 10  4  4  4  4 11  4  9  5 10  5\n",
      "  4  5 12  4  4  4  5  4  4  4  4 10  4  4  4  4  4  4  4  4  4  4  4  5\n",
      "  5  4  4 13  4  4  4  4  4  4  4  4  4  4 14  4  4  4  4 15  4  4 10  4\n",
      "  4 16 17 14 14  4  4 18  4  4 10 10 10 10 10 10 10 10 10 10 10 10 10 10\n",
      " 10 10 10 10 10 10 10 10 10 10 10 10 10 10 19 19 10 10 10 10 10 10 10 10\n",
      " 10 10 10 10 10 10 10 10 10 10]\n",
      "[1 1 1 1 1 1 1 1 1 1 1 1 1 1 1 1 1 1 1 1 1 1 1 1 1 1 1 1 1 1 1 1 1 1 1 1 1\n",
      " 1 1 1 1 1 1 1 1 1 1 1 1 1 1 1 1 1 1 1 1 1 1 2 2 2 2 2 2 2 2 2 2 2 2 2 2 2\n",
      " 2 2 2 2 2 2 2 2 2 2 2 2 2 2 2 2 2 2 2 2 2 2 2 2 2 2 2 2 2 2 2 2 2 2 2 2 2\n",
      " 2 2 2 2 2 2 2 2 2 2 2 2 2 2 2 2 2 2 2 3 3 3 3 3 3 3 3 3 3 3 3 3 3 3 3 3 3\n",
      " 3 3 3 3 3 3 3 3 3 3 3 3 3 3 3 3 3 3 3 3 3 3 3 3 3 3 3 3 3 3]\n"
     ]
    }
   ],
   "source": [
    "print(my_cluster.cluster)\n",
    "print(label)"
   ]
  },
  {
   "cell_type": "code",
   "execution_count": null,
   "metadata": {},
   "outputs": [],
   "source": []
  }
 ],
 "metadata": {
  "interpreter": {
   "hash": "b3ba2566441a7c06988d0923437866b63cedc61552a5af99d1f4fb67d367b25f"
  },
  "kernelspec": {
   "display_name": "Python 3.8.8 64-bit ('base': conda)",
   "language": "python",
   "name": "python3"
  },
  "language_info": {
   "codemirror_mode": {
    "name": "ipython",
    "version": 3
   },
   "file_extension": ".py",
   "mimetype": "text/x-python",
   "name": "python",
   "nbconvert_exporter": "python",
   "pygments_lexer": "ipython3",
   "version": "3.8.8"
  },
  "orig_nbformat": 4
 },
 "nbformat": 4,
 "nbformat_minor": 2
}
